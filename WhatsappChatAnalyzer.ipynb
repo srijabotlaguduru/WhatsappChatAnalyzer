{
  "nbformat": 4,
  "nbformat_minor": 0,
  "metadata": {
    "colab": {
      "provenance": [],
      "authorship_tag": "ABX9TyOWhWKidmHuZZa2Y395roXZ",
      "include_colab_link": true
    },
    "kernelspec": {
      "name": "python3",
      "display_name": "Python 3"
    },
    "language_info": {
      "name": "python"
    }
  },
  "cells": [
    {
      "cell_type": "markdown",
      "metadata": {
        "id": "view-in-github",
        "colab_type": "text"
      },
      "source": [
        "<a href=\"https://colab.research.google.com/github/srijabotlaguduru/WhatsappChatAnalyzer/blob/main/WhatsappChatAnalyzer.ipynb\" target=\"_parent\"><img src=\"https://colab.research.google.com/assets/colab-badge.svg\" alt=\"Open In Colab\"/></a>"
      ]
    },
    {
      "cell_type": "code",
      "source": [
        "import os\n",
        "import re\n",
        "import pandas as pd\n",
        "import matplotlib.pyplot as plt\n",
        "from collections import Counter\n",
        "import string"
      ],
      "metadata": {
        "id": "sIDNqlJMPcD6"
      },
      "execution_count": 7,
      "outputs": []
    },
    {
      "cell_type": "code",
      "source": [
        "# ---------- Parse the Chat ----------\n",
        "def parse_chat(file_path):\n",
        "    with open(file_path, encoding='utf-8') as f:\n",
        "        lines = f.readlines()\n",
        "\n",
        "    # Handles format: [18/05/23, 3:53:03 PM] Name: message\n",
        "    pattern = r'^\\[?(\\d{1,2}/\\d{1,2}/\\d{2,4}), (\\d{1,2}:\\d{2}:\\d{2})\\u202f?(AM|PM)\\] (.*?): (.*)'\n",
        "    messages = []\n",
        "\n",
        "    for line in lines:\n",
        "        match = re.match(pattern, line)\n",
        "        if match:\n",
        "            date, time, am_pm, sender, message = match.groups()\n",
        "            time = f\"{time} {am_pm}\"\n",
        "            messages.append((date, time, sender, message))\n",
        "\n",
        "    df = pd.DataFrame(messages, columns=[\"Date\", \"Time\", \"Sender\", \"Message\"])\n",
        "\n",
        "    if df.empty:\n",
        "        print(\"⚠️ No messages parsed! Sample line:\\n\", repr(lines[0]))\n",
        "    else:\n",
        "        df[\"Datetime\"] = pd.to_datetime(df[\"Date\"] + \" \" + df[\"Time\"], format='%d/%m/%y %I:%M:%S %p', errors='coerce')\n",
        "\n",
        "    return df"
      ],
      "metadata": {
        "id": "hDbk4MSJPhsT"
      },
      "execution_count": 27,
      "outputs": []
    },
    {
      "cell_type": "code",
      "source": [
        "# ---------- Parse All Chats in Folder ----------\n",
        "def parse_all_chats(folder_path):\n",
        "    all_messages = []\n",
        "\n",
        "    for filename in os.listdir(folder_path):\n",
        "        if filename.endswith(\".txt\"):\n",
        "            full_path = os.path.join(folder_path, filename)\n",
        "            all_messages.extend(parse_chat(full_path))\n",
        "\n",
        "    df = pd.DataFrame(all_messages, columns=[\"Date\", \"Time\", \"Sender\", \"Message\", \"ChatFile\"])\n",
        "    df[\"Date\"] = pd.to_datetime(df[\"Date\"], dayfirst=True)\n",
        "    return df"
      ],
      "metadata": {
        "id": "J0wtbi7-QE6n"
      },
      "execution_count": 6,
      "outputs": []
    },
    {
      "cell_type": "code",
      "source": [
        "# ---------- Count Messages ----------\n",
        "def count_messages(df):\n",
        "    counts = df[\"Sender\"].value_counts().reset_index()\n",
        "    counts.columns = [\"Sender\", \"Message Count\"]\n",
        "    return counts"
      ],
      "metadata": {
        "id": "3Q6lNyFuPk3o"
      },
      "execution_count": 10,
      "outputs": []
    },
    {
      "cell_type": "code",
      "source": [
        "# ---------- Activity Trend ----------\n",
        "def plot_activity_trend(df, start_date, end_date, frequency='M'):\n",
        "  \"\"\"\n",
        "  Plots message trends based on a given time range (start_date to end_date).\n",
        "  Frequency can be 'Y' (year), 'M' (month), 'W' (week).\n",
        "  \"\"\"\n",
        "  # Ensure the 'Datetime' column is in datetime format (if not already)\n",
        "  df['Datetime'] = pd.to_datetime(df['Datetime'], format='%d/%m/%Y', errors='coerce')\n",
        "\n",
        "  # Filter the data based on the start and end dates\n",
        "  mask = (df['Datetime'] >= start_date) & (df['Datetime'] <= end_date)\n",
        "  df_filtered = df[mask]\n",
        "\n",
        "  if df_filtered.empty:\n",
        "    print(\"No data available for the selected date range.\")\n",
        "    return\n",
        "\n",
        "  # Set 'Datetime' as the index for resampling\n",
        "  df_filtered.set_index('Datetime', inplace=True)\n",
        "\n",
        "  # Resample based on the frequency provided ('Y' for years, 'M' for months, 'W' for weeks)\n",
        "  if frequency.upper() == 'Y':\n",
        "    trend = df_filtered.resample('Y').size()  # Number of messages per year\n",
        "  elif frequency.upper() == 'M':\n",
        "    trend = df_filtered.resample('ME').size()  # Number of messages per month\n",
        "  elif frequency.upper() == 'W':\n",
        "    trend = df_filtered.resample('W-SUN').size()  # Number of messages per week\n",
        "  else:\n",
        "    print(\"Invalid frequency. Use 'Y', 'M', or 'W'.\")\n",
        "    return\n",
        "\n",
        "  # Plot the trend\n",
        "  plt.figure(figsize=(10, 6))\n",
        "  trend.plot(kind='line', marker='o', linestyle='-', color='b')\n",
        "  plt.title(f'Message Trend ({frequency})', fontsize=14)\n",
        "  plt.xlabel(f'{frequency.capitalize()}s', fontsize=12)\n",
        "  plt.ylabel('Number of Messages', fontsize=12)\n",
        "  plt.grid(True)\n",
        "  plt.xticks(rotation=45)\n",
        "  plt.show()\n"
      ],
      "metadata": {
        "id": "234oYSh7Pmjs"
      },
      "execution_count": 52,
      "outputs": []
    },
    {
      "cell_type": "code",
      "source": [
        "# ---------- Most Used Words per User ----------\n",
        "def most_used_words(df, top_n=10):\n",
        "  user_words = {}\n",
        "\n",
        "  stopwords = set([\n",
        "  \"the\", \"to\", \"and\", \"i\", \"you\", \"a\", \"in\", \"is\", \"it\", \"of\", \"for\", \"on\", \"me\", \"this\",\n",
        "  \"that\", \"my\", \"with\", \"was\", \"but\", \"are\", \"have\", \"not\", \"at\", \"be\", \"so\", \"we\", \"just\", \"aa\", \"ga\", \"ani\", \"em\", \"will\", \"what\", \"so\", \"yes\", \"no\", \"ra\", \"ha\", \"haa\", \"le\", \"lee\", \"lo\", \"ala\", \"ki\", \"ok\", \"okay\"\n",
        "  ])\n",
        "\n",
        "  for sender in df['Sender'].unique():\n",
        "    messages = df[df['Sender'] == sender]['Message']\n",
        "\n",
        "    # Clean and join all messages into one text blob\n",
        "    full_text = ' '.join(messages)\n",
        "\n",
        "    # Remove invisible characters like \\u200e and any non-word characters\n",
        "    clean_text = re.sub(r'[\\u200e]', '', full_text)  # remove left-to-right mark\n",
        "    clean_text = re.sub(r'[^a-zA-Z0-9\\s]', '', clean_text)  # remove special characters\n",
        "    clean_text = clean_text.lower()  # lowercase for uniformity\n",
        "\n",
        "    # Tokenize\n",
        "    words = clean_text.split()\n",
        "\n",
        "    # Filter out stopwords and short words\n",
        "    filtered_words = [word for word in words if word not in stopwords and len(word) > 1]\n",
        "\n",
        "    # Count and get most common\n",
        "    common_words = Counter(filtered_words).most_common(top_n)\n",
        "    user_words[sender] = common_words\n",
        "\n",
        "  return user_words"
      ],
      "metadata": {
        "id": "8HbYWUfHPok1"
      },
      "execution_count": 72,
      "outputs": []
    },
    {
      "cell_type": "code",
      "source": [
        "def chats():\n",
        "  ans = input(\"Do you want to parse all chats in a folder? (y/n) \")\n",
        "\n",
        "  if ans.lower() == 'y':\n",
        "    folder = input(\"Enter folder name\\n\")\n",
        "    chat_df = parse_all_chats(folder)\n",
        "  else:\n",
        "    chat_name = input(\"Enter relative chat path i.e. (name.txt) \\n\")\n",
        "    chat_df = parse_chat(chat_name)\n",
        "\n",
        "  return chat_df"
      ],
      "metadata": {
        "id": "V4pz77AtXpuT"
      },
      "execution_count": 47,
      "outputs": []
    },
    {
      "cell_type": "code",
      "source": [
        "def plot_graph():\n",
        "  graph_time = input(\"Do you want yearly(Y) or monthly(M) or weekly(W) basis?\\n\")\n",
        "  if graph_time.lower() != 'y' and graph_time.lower() != 'm' and graph_time.lower() != 'w':\n",
        "    print(\"Invalid input\")\n",
        "    return False\n",
        "\n",
        "  start_date = input(\"Enter start date (DD-MM-YYYY): \")\n",
        "  end_date = input(\"Enter end date (DD-MM-YYYY): \")\n",
        "  print(\"Generating Activity Trend...\\n\")\n",
        "  plot_activity_trend(chat_df, start_date, end_date,)\n",
        "\n",
        "  return True"
      ],
      "metadata": {
        "id": "hmG6A8r7X4YQ"
      },
      "execution_count": 38,
      "outputs": []
    },
    {
      "cell_type": "code",
      "source": [
        "def most_words_call(df):\n",
        "  print(\"\\n\\nMost Used Words by Each User:\\n\")\n",
        "  word_stats = most_used_words(df)\n",
        "\n",
        "  for user, words in word_stats.items():\n",
        "    print(f\"\\n{user}\\n\")\n",
        "    for word, count in words:\n",
        "      print(f\"{word}: {count}\")"
      ],
      "metadata": {
        "id": "yRcOgGMFZYd3"
      },
      "execution_count": 68,
      "outputs": []
    },
    {
      "cell_type": "code",
      "execution_count": 80,
      "metadata": {
        "colab": {
          "base_uri": "https://localhost:8080/",
          "height": 1000
        },
        "id": "KfZN_IlfLv99",
        "outputId": "0008a1d2-507c-4d64-89c1-048b2715d085"
      },
      "outputs": [
        {
          "output_type": "stream",
          "name": "stdout",
          "text": [
            "Do you want to parse all chats in a folder? (y/n) n\n",
            "Enter relative chat path i.e. (name.txt) \n",
            "suchi_chat.txt\n",
            "Top Message Senders:\n",
            "\n",
            "              Sender  Message Count\n",
            "0  Srija Botlaguduru          16429\n",
            "1           Suchiiii          11694 \n",
            "\n",
            "Do you want graph? (y/n) y\n",
            "Do you want yearly(Y) or monthly(M) or weekly(W) basis?\n",
            "m\n",
            "Enter start date (DD-MM-YYYY): 28-08-2023\n",
            "Enter end date (DD-MM-YYYY): 16-04-2025\n",
            "Generating Activity Trend...\n",
            "\n"
          ]
        },
        {
          "output_type": "display_data",
          "data": {
            "text/plain": [
              "<Figure size 1000x600 with 1 Axes>"
            ],
            "image/png": "[encoded data removed]"
          },
          "metadata": {}
        },
        {
          "output_type": "stream",
          "name": "stdout",
          "text": [
            "\n",
            "\n",
            "Most Used Words by Each User:\n",
            "\n",
            "\n",
            "Suchiiii\n",
            "\n",
            "nen: 304\n",
            "antey: 249\n",
            "koda: 213\n",
            "message: 212\n",
            "sarley: 188\n",
            "nuvh: 179\n",
            "nak: 156\n",
            "she: 155\n",
            "ni: 149\n",
            "adi: 147\n",
            "\n",
            "Srija Botlaguduru\n",
            "\n",
            "nen: 292\n",
            "im: 258\n",
            "like: 254\n",
            "nak: 253\n",
            "bro: 222\n",
            "ante: 218\n",
            "adhi: 212\n",
            "message: 212\n",
            "he: 201\n",
            "enti: 181\n"
          ]
        }
      ],
      "source": [
        "# ---------- Example Usage ----------\n",
        "if __name__ == \"__main__\":\n",
        "\n",
        "# --------- To check if we have to parse more than one chat or just one chat --------------------\n",
        "  chat_df = chats()\n",
        "\n",
        "# ---------- Number of messages in descending order -----------------------------------------\n",
        "  print(\"Top Message Senders:\\n\")\n",
        "  print(count_messages(chat_df), \"\\n\")\n",
        "\n",
        "# ------------------ Calling for a graph ---------------------\n",
        "  want_graph = input(\"Do you want graph? (y/n) \")\n",
        "\n",
        "  if want_graph.lower() == \"y\":\n",
        "    while not plot_graph():\n",
        "      plot_graph()\n",
        "\n",
        "# --------------- Most used words ------------------------------\n",
        "  most_words_call(chat_df)\n"
      ]
    }
  ]
}